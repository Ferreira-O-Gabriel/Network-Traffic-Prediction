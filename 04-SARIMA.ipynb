{
 "cells": [
  {
   "cell_type": "code",
   "execution_count": null,
   "id": "d97e2dde",
   "metadata": {},
   "outputs": [],
   "source": [
    "#---This program is used to forecast 1 week CDRs based on 55 previous days' data\n",
    "\n",
    "#---Install these bibs so the program works properly\n",
    "import pandas as pd\n",
    "import numpy as np\n",
    "from numpy import loadtxt\n",
    "import statsmodels.api as sm\n",
    "import matplotlib.pyplot as plt\n",
    "import itertools\n",
    "from sklearn.metrics import mean_absolute_error\n",
    "from sklearn.metrics import mean_squared_error"
   ]
  },
  {
   "cell_type": "code",
   "execution_count": null,
   "id": "16662eaa",
   "metadata": {},
   "outputs": [],
   "source": [
    "#--Loading Cell_ID vector, whose elements tell from which ID the matrix_TS row is the corresponding time-series\n",
    "\n",
    "Cell_ID = loadtxt('ID_labels.csv', delimiter=',') \n",
    "df = pd.read_csv('matrixTS.csv',header=None)\n",
    "df.head(6)"
   ]
  },
  {
   "cell_type": "code",
   "execution_count": null,
   "id": "0765b9f8",
   "metadata": {},
   "outputs": [],
   "source": [
    "#--Defines the Cell ID to be forecasted and plots the corresponding time-series\n",
    "\n",
    "matrix = df.to_numpy()\n",
    "\n",
    "ID=60\n",
    "time_series = matrix[ID][:]\n",
    "hour = np.linspace(0,24*62,24*62)\n",
    "\n",
    "plt.figure(figsize=(15,6))\n",
    "plt.title('Traffic load of Cell ID = %d' % (Cell_ID[60])) \n",
    "plt.plot(hour,time_series,'b')"
   ]
  },
  {
   "cell_type": "markdown",
   "id": "8fc8b9e1",
   "metadata": {},
   "source": [
    "## Defining training and test data sets"
   ]
  },
  {
   "cell_type": "code",
   "execution_count": null,
   "id": "a5320d31",
   "metadata": {},
   "outputs": [],
   "source": [
    "training_size = 55 # in days\n",
    "ts_training = time_series[0:24*training_size]\n",
    "hour_training = hour[0:24*training_size]\n",
    "\n",
    "ts_test = time_series[24*training_size:]\n",
    "hour_test = hour[24*training_size:]\n",
    "\n",
    "plt.figure(figsize=(15,6))\n",
    "plt.title('Training and test data sets of Cell ID = %d' % (Cell_ID[60])) \n",
    "plt.plot(hour_training,ts_training,'b')\n",
    "plt.plot(hour_test,ts_test,'r')"
   ]
  },
  {
   "cell_type": "code",
   "execution_count": null,
   "id": "465d9593",
   "metadata": {},
   "outputs": [],
   "source": [
    "#---Standardization of the CDR time-series\n",
    "\n",
    "ts_training_mean = ts_training.mean()\n",
    "ts_training_std = ts_training.std() \n",
    "\n",
    "ts_training_standardized = (ts_training - ts_training_mean) / ts_training_std\n",
    "ts_test_standardized = (ts_test - ts_training_mean) / ts_training_std\n",
    "\n",
    "plt.figure(figsize=(15,6))\n",
    "plt.title('Standardized training and test data sets of Cell ID = %d' % (Cell_ID[60])) \n",
    "plt.plot(hour_training,ts_training_standardized,'b')\n",
    "plt.plot(hour_test,ts_test_standardized,'r')"
   ]
  },
  {
   "cell_type": "markdown",
   "id": "0315fa2e",
   "metadata": {},
   "source": [
    "## Starting SARIMA model"
   ]
  },
  {
   "cell_type": "code",
   "execution_count": null,
   "id": "9e33c01d",
   "metadata": {},
   "outputs": [],
   "source": [
    "#---Here we do a grid search on the parameters p,d,q,P,D,Q,S and select the one with smallest AIC criterion\n",
    "\n",
    "p = d = q = range(0, 2)\n",
    "pdq = list(itertools.product(p, d, q))\n",
    "seasonal_pdq = [(x[0], x[1], x[2], 24) for x in list(itertools.product(p, d, q))]\n",
    "\n",
    "AIC_vector = []\n",
    "param_vector = []\n",
    "param_seasonal_vector = []\n",
    "\n",
    "print(\"Grid search in progress...\")\n",
    "for param in pdq:\n",
    "    for param_seasonal in seasonal_pdq:\n",
    "        try:\n",
    "            mod = sm.tsa.statespace.SARIMAX(ts_training_standardized,\n",
    "                                            order=param,\n",
    "                                            seasonal_order=param_seasonal,\n",
    "                                            enforce_stationarity=False,\n",
    "                                            enforce_invertibility=False)\n",
    "            results = mod.fit()\n",
    "            AIC_vector.append(results.aic)\n",
    "            param_vector.append(param)\n",
    "            param_seasonal_vector.append(param_seasonal)\n",
    "            \n",
    "        except: \n",
    "            continue\n",
    "\n",
    "print(\"Grid search finished.\")            \n",
    "print('Arg min',np.min(AIC_vector),param_vector[np.argmin(AIC_vector)],param_seasonal_vector[np.argmin(AIC_vector)])"
   ]
  },
  {
   "cell_type": "code",
   "execution_count": null,
   "id": "189203c9",
   "metadata": {},
   "outputs": [],
   "source": [
    "#--Fit model with parameters that provided the best (smallest) AIC\n",
    "\n",
    "p = param_vector[np.argmin(AIC_vector)][0]\n",
    "d = param_vector[np.argmin(AIC_vector)][1]\n",
    "q = param_vector[np.argmin(AIC_vector)][2]\n",
    "\n",
    "P = param_seasonal_vector[np.argmin(AIC_vector)][0]\n",
    "D = param_seasonal_vector[np.argmin(AIC_vector)][1]\n",
    "Q = param_seasonal_vector[np.argmin(AIC_vector)][2]\n",
    "\n",
    "mod = sm.tsa.statespace.SARIMAX(ts_training_standardized,\n",
    "                                order=(p, d, q),\n",
    "                                seasonal_order=(P, D, Q, 24),\n",
    "                                enforce_stationarity=False,\n",
    "                                enforce_invertibility=False)\n",
    "results = mod.fit()\n",
    "print(results.summary())"
   ]
  },
  {
   "cell_type": "code",
   "execution_count": null,
   "id": "24f3fb35",
   "metadata": {},
   "outputs": [],
   "source": [
    "#---Prediction with trained model\n",
    "\n",
    "days_predict = 7 #variable that defines how many days to forecast\n",
    "pred_uc = results.get_forecast(steps=24*days_predict)\n",
    "pred_ci = pred_uc.conf_int()\n",
    "\n",
    "plt.figure(figsize=(20,8))\n",
    "plt.title(\"Cell ID %d forecast\" % (Cell_ID[60])) \n",
    "plt.plot(hour_test,ts_test_standardized,'b')\n",
    "plt.plot(hour_test,pred_uc.predicted_mean,'k--',label=\"Forecast\")\n",
    "plt.legend(loc='upper left')\n",
    "plt.xlabel(\"Hour\")\n",
    "plt.ylabel(\"CDR\")"
   ]
  },
  {
   "cell_type": "code",
   "execution_count": null,
   "id": "08e08c11",
   "metadata": {},
   "outputs": [],
   "source": [
    "#--Ploting the actual result (not considering mean and std)\n",
    "\n",
    "test_predictions = pred_uc.predicted_mean*ts_training_std+ts_training_mean\n",
    "\n",
    "plt.figure(figsize=(20,8))\n",
    "plt.title(\"Cell ID %d forecast\" % (Cell_ID[60])) \n",
    "\n",
    "plt.plot(hour_test,test_predictions,'k--',label=\"Forecast\")\n",
    "plt.plot(hour[24*55:],time_series[24*55:],'b')\n",
    "\n",
    "plt.legend(loc='upper left')\n",
    "plt.xlabel(\"Hour\")\n",
    "plt.ylabel(\"CDR\")"
   ]
  },
  {
   "cell_type": "code",
   "execution_count": null,
   "id": "edfb91fe",
   "metadata": {},
   "outputs": [],
   "source": [
    "MAE = mean_absolute_error(time_series[24*55:], test_predictions)\n",
    "MSE = mean_squared_error(time_series[24*55:], test_predictions)\n",
    "print('MAE:', \"%.3f\" % MAE)\n",
    "print('MSE:', \"%.3f\" % MSE)"
   ]
  },
  {
   "cell_type": "code",
   "execution_count": null,
   "id": "2da0f69f",
   "metadata": {
    "scrolled": true
   },
   "outputs": [],
   "source": []
  },
  {
   "cell_type": "code",
   "execution_count": null,
   "id": "fc9c775b",
   "metadata": {},
   "outputs": [],
   "source": []
  },
  {
   "cell_type": "code",
   "execution_count": null,
   "id": "c67f92cc",
   "metadata": {
    "scrolled": true
   },
   "outputs": [],
   "source": []
  },
  {
   "cell_type": "code",
   "execution_count": null,
   "id": "98761a8c",
   "metadata": {},
   "outputs": [],
   "source": []
  },
  {
   "cell_type": "code",
   "execution_count": null,
   "id": "e0f90e73",
   "metadata": {},
   "outputs": [],
   "source": []
  },
  {
   "cell_type": "code",
   "execution_count": null,
   "id": "de5eb744",
   "metadata": {},
   "outputs": [],
   "source": []
  },
  {
   "cell_type": "code",
   "execution_count": null,
   "id": "b89cc6fa",
   "metadata": {},
   "outputs": [],
   "source": []
  },
  {
   "cell_type": "code",
   "execution_count": null,
   "id": "ffca999c",
   "metadata": {},
   "outputs": [],
   "source": []
  }
 ],
 "metadata": {
  "kernelspec": {
   "display_name": "Python 3",
   "language": "python",
   "name": "python3"
  },
  "language_info": {
   "codemirror_mode": {
    "name": "ipython",
    "version": 3
   },
   "file_extension": ".py",
   "mimetype": "text/x-python",
   "name": "python",
   "nbconvert_exporter": "python",
   "pygments_lexer": "ipython3",
   "version": "3.6.13"
  }
 },
 "nbformat": 4,
 "nbformat_minor": 5
}
