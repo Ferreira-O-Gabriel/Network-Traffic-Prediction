{
 "cells": [
  {
   "cell_type": "code",
   "execution_count": null,
   "id": "d97e2dde",
   "metadata": {},
   "outputs": [],
   "source": [
    "#---This program is used to forecast 1 week CDRs based on 55 previous days' data\n",
    "\n",
    "#---Install these bibs so the program works properly\n",
    "import pandas as pd\n",
    "import numpy as np\n",
    "from numpy import loadtxt\n",
    "import statsmodels.api as sm\n",
    "import matplotlib.pyplot as plt\n",
    "import itertools\n",
    "from sklearn.metrics import mean_absolute_error\n",
    "from sklearn.metrics import mean_squared_error"
   ]
  },
  {
   "cell_type": "code",
   "execution_count": null,
   "id": "16662eaa",
   "metadata": {},
   "outputs": [],
   "source": [
    "#--Loading Cell_ID vector, whose elements tell from which ID the matrix_TS row is the corresponding time-series\n",
    "\n",
    "Cell_ID = loadtxt('ID_labels.csv', delimiter=',') \n",
    "df = pd.read_csv('matrixTS.csv',header=None)\n",
    "df.head(6)"
   ]
  },
  {
   "cell_type": "code",
   "execution_count": null,
   "id": "0765b9f8",
   "metadata": {},
   "outputs": [],
   "source": [
    "#--Defines the Cell ID to be forecasted and plots the corresponding time-series\n",
    "\n",
    "matrix = df.to_numpy()\n",
    "\n",
    "ID=60\n",
    "time_series = matrix[ID][:]\n",
    "hour = np.linspace(0,24*62,24*62)\n",
    "\n",
    "plt.figure(figsize=(15,6))\n",
    "plt.title('Traffic load of Cell ID = %d' % (Cell_ID[60])) \n",
    "plt.plot(hour,time_series,'b')"
   ]
  },
  {
   "cell_type": "code",
   "execution_count": null,
   "id": "fc9c775b",
   "metadata": {},
   "outputs": [],
   "source": [
    "#--Decomposing the signal according to Classical Decomposition approach: formulas in Survey Paper\n",
    "\n",
    "S = 24 #--period length\n",
    "q = int(S/2)\n",
    "m_hat = np.zeros(q)\n",
    "m_hat = m_hat.tolist()\n",
    "\n",
    "for t in range(q,len(time_series)-q):\n",
    "    aux = (0.5*time_series[t-q]+sum(time_series[t-q+1:t+q])+0.5*time_series[t+q])/S\n",
    "    m_hat.append(aux)    \n",
    "\n",
    "vec_aux = []\n",
    "w = []\n",
    "vec_k = np.linspace(S,2*S-1,S).astype(int)\n",
    "vec_k = vec_k.tolist()\n",
    "\n",
    "for i in vec_k:\n",
    "    while i<(len(time_series)-q):\n",
    "        vec_aux.append(time_series[i]-m_hat[i])\n",
    "        i=i+S\n",
    "    w.append(np.mean(vec_aux))\n",
    "    vec_aux = []\n",
    "\n",
    "vec_s_hat = []\n",
    "s_hat = []\n",
    "mean_w = np.mean(w)\n",
    "\n",
    "for k in range(0,S):\n",
    "    aux = w[k]-mean_w\n",
    "    vec_s_hat.append(aux)\n",
    "\n",
    "for i in range(0,int(len(time_series)/S)):\n",
    "    s_hat.append(vec_s_hat)\n",
    "\n",
    "s_hat = np.array(s_hat)\n",
    "s_hat = s_hat.flatten() \n",
    "\n",
    "m = []\n",
    "vec_aux = []\n",
    "for i in range(0,len(time_series)):\n",
    "    for c in range(-q,q+1):\n",
    "        if (i+c) < 0:\n",
    "           vec_aux.append([time_series[0]])\n",
    "        elif (i+c) >= len(time_series):\n",
    "           vec_aux.append([time_series[len(time_series)-1]])\n",
    "        else:\n",
    "           vec_aux.append([time_series[i+c]]) \n",
    "    \n",
    "    vec_aux = np.array(vec_aux)\n",
    "    m.append(sum(vec_aux)/(S+1))\n",
    "    vec_aux = []\n",
    "\n",
    "r = []\n",
    "d = time_series-s_hat\n",
    "m = np.array(m)\n",
    "s = s_hat.flatten()\n",
    "\n",
    "for i in range(0,len(time_series)):\n",
    "    r.append(time_series[i]-s_hat[i]-m[i])\n",
    "r = np.array(r)\n",
    " \n"
   ]
  },
  {
   "cell_type": "code",
   "execution_count": null,
   "id": "c67f92cc",
   "metadata": {
    "scrolled": true
   },
   "outputs": [],
   "source": [
    "plot_size = 24*7 # decides the length to be plotted\n",
    "\n",
    "trend_periodic = []\n",
    "for i in range(0,len(time_series)):\n",
    "    trend_periodic.append(m[i]+s[i]) \n",
    "trend_periodic = np.array(trend_periodic)\n",
    "\n",
    "fig = plt.figure()\n",
    "# Set common labels\n",
    "fig.text(0.5, 0.04, 'Time (hours)', ha='center', va='center',fontsize=13)\n",
    "fig.text(0.07, 0.5, 'CDR traffic', ha='center', va='center', rotation='vertical',fontsize=13)\n",
    "\n",
    "ax1 = plt.subplot(321)\n",
    "ax1.plot(hour[0:plot_size], time_series[0:plot_size])\n",
    "ax1.set_title('Observed Data')\n",
    "\n",
    "ax2 = plt.subplot(322)\n",
    "ax2.plot(hour[0:plot_size], m[0:plot_size], 'tab:orange')\n",
    "ax2.set_title('Trend Component')\n",
    "#ax2.set_yticks([])\n",
    "\n",
    "ax3 = plt.subplot(323)\n",
    "ax3.plot(hour[0:plot_size], s[0:plot_size], 'tab:green')\n",
    "ax3.set_title('Periodic Component')\n",
    "#ax3.set_yticks([])\n",
    "\n",
    "ax4 = plt.subplot(324)\n",
    "ax4.plot(hour[0:plot_size], r[0:plot_size], 'tab:red')\n",
    "ax4.set_title('Stochastic Component')\n",
    "#ax4.set_yticks([])\n",
    "\n",
    "ax5 = plt.subplot(3,2,(5,6))\n",
    "ax5.plot(hour[0:plot_size],trend_periodic[0:plot_size])\n",
    "ax5.set_title('Resulting Time-Series')\n",
    "\n",
    "plt.subplots_adjust(hspace=0.9,wspace=0.2)\n",
    "plt.show() \n",
    "plt.draw()\n"
   ]
  },
  {
   "cell_type": "markdown",
   "id": "02394fae",
   "metadata": {},
   "source": [
    "## Defining training and test data sets"
   ]
  },
  {
   "cell_type": "code",
   "execution_count": null,
   "id": "a5320d31",
   "metadata": {},
   "outputs": [],
   "source": [
    "training_size = 55 # in days\n",
    "ts_training = trend_periodic[0:24*training_size]\n",
    "hour_training = hour[0:24*training_size]\n",
    "\n",
    "ts_test = trend_periodic[24*training_size:]\n",
    "hour_test = hour[24*training_size:]\n",
    "\n",
    "plt.figure(figsize=(15,6))\n",
    "plt.title('Training and test data sets of Cell ID = %d' % (Cell_ID[60])) \n",
    "plt.plot(hour_training,ts_training,'b')\n",
    "plt.plot(hour_test,ts_test,'r')"
   ]
  },
  {
   "cell_type": "code",
   "execution_count": null,
   "id": "465d9593",
   "metadata": {},
   "outputs": [],
   "source": [
    "#---Standardization of the CDR time-series\n",
    "\n",
    "ts_training_mean = ts_training.mean()\n",
    "ts_training_std = ts_training.std() \n",
    "\n",
    "ts_training_standardized = (ts_training - ts_training_mean) / ts_training_std\n",
    "ts_test_standardized = (ts_test - ts_training_mean) / ts_training_std\n",
    "\n",
    "plt.figure(figsize=(15,6))\n",
    "plt.title('standardized training and test data sets of Cell ID = %d' % (Cell_ID[60])) \n",
    "plt.plot(hour_training,ts_training_standardized,'b')\n",
    "plt.plot(hour_test,ts_test_standardized,'r')"
   ]
  },
  {
   "cell_type": "markdown",
   "id": "ef9ea299",
   "metadata": {},
   "source": [
    "## Starting SARIMA model"
   ]
  },
  {
   "cell_type": "code",
   "execution_count": null,
   "id": "9e33c01d",
   "metadata": {},
   "outputs": [],
   "source": [
    "#---Here we do a grid search on the parameters p,d,q,P,D,Q,S and select the one with smallest AIC criterion\n",
    "\n",
    "p = d = q = range(0, 2)\n",
    "pdq = list(itertools.product(p, d, q))\n",
    "seasonal_pdq = [(x[0], x[1], x[2], 24) for x in list(itertools.product(p, d, q))]\n",
    "\n",
    "AIC_vector = []\n",
    "param_vector = []\n",
    "param_seasonal_vector = []\n",
    "\n",
    "print(\"Grid search in progress...\")\n",
    "for param in pdq:\n",
    "    for param_seasonal in seasonal_pdq:\n",
    "        try:\n",
    "            mod = sm.tsa.statespace.SARIMAX(ts_training_standardized,\n",
    "                                            order=param,\n",
    "                                            seasonal_order=param_seasonal,\n",
    "                                            enforce_stationarity=False,\n",
    "                                            enforce_invertibility=False)\n",
    "            results = mod.fit()\n",
    "            AIC_vector.append(results.aic)\n",
    "            param_vector.append(param)\n",
    "            param_seasonal_vector.append(param_seasonal)\n",
    "            \n",
    "        except: \n",
    "            continue\n",
    "\n",
    "print(\"Grid search finished.\")            \n",
    "print('Arg min',np.min(AIC_vector),param_vector[np.argmin(AIC_vector)],param_seasonal_vector[np.argmin(AIC_vector)])"
   ]
  },
  {
   "cell_type": "code",
   "execution_count": null,
   "id": "189203c9",
   "metadata": {},
   "outputs": [],
   "source": [
    "#--Fit model with parameters that provided the best (smallest) AIC\n",
    "\n",
    "p = param_vector[np.argmin(AIC_vector)][0]\n",
    "d = param_vector[np.argmin(AIC_vector)][1]\n",
    "q = param_vector[np.argmin(AIC_vector)][2]\n",
    "\n",
    "P = param_seasonal_vector[np.argmin(AIC_vector)][0]\n",
    "D = param_seasonal_vector[np.argmin(AIC_vector)][1]\n",
    "Q = param_seasonal_vector[np.argmin(AIC_vector)][2]\n",
    "\n",
    "mod = sm.tsa.statespace.SARIMAX(ts_training_standardized,\n",
    "                                order=(p, d, q),\n",
    "                                seasonal_order=(P, D, Q, 24),\n",
    "                                enforce_stationarity=False,\n",
    "                                enforce_invertibility=False)\n",
    "results = mod.fit()\n",
    "print(results.summary())"
   ]
  },
  {
   "cell_type": "code",
   "execution_count": null,
   "id": "24f3fb35",
   "metadata": {},
   "outputs": [],
   "source": [
    "#---Prediction with trained model\n",
    "\n",
    "days_predict = 7 #variable that defines how many days to forecast\n",
    "pred_uc = results.get_forecast(steps=24*days_predict)\n",
    "pred_ci = pred_uc.conf_int()\n",
    "\n",
    "plt.figure(figsize=(20,8))\n",
    "plt.title(\"Cell ID %d forecast\" % (Cell_ID[60])) \n",
    "plt.plot(hour_test,ts_test_standardized,'b')\n",
    "plt.plot(hour_test,pred_uc.predicted_mean,'k--',label=\"Forecast\")\n",
    "plt.legend(loc='upper left')\n",
    "plt.xlabel(\"Hour\")\n",
    "plt.ylabel(\"CDR\")"
   ]
  },
  {
   "cell_type": "code",
   "execution_count": null,
   "id": "6c50dc85",
   "metadata": {},
   "outputs": [],
   "source": [
    "#--Ploting the actual result (not considering mean and std)\n",
    "\n",
    "test_predictions = pred_uc.predicted_mean*ts_training_std+ts_training_mean\n",
    "\n",
    "plt.figure(figsize=(20,8))\n",
    "plt.title(\"Cell ID forecast\") \n",
    "\n",
    "plt.plot(hour_test,test_predictions,'k--',label=\"Forecast\")\n",
    "plt.plot(hour[24*21:],time_series[24*21:],'b')\n",
    "\n",
    "plt.legend(loc='upper left')\n",
    "plt.xlabel(\"Hour\")\n",
    "plt.ylabel(\"CDR\")"
   ]
  },
  {
   "cell_type": "code",
   "execution_count": null,
   "id": "edfb91fe",
   "metadata": {},
   "outputs": [],
   "source": [
    "MAE = mean_absolute_error(time_series[24*55:], test_predictions)\n",
    "MSE = mean_squared_error(time_series[24*55:], test_predictions)\n",
    "print('MAE:', \"%.3f\" % MAE)\n",
    "print('MSE:', \"%.3f\" % MSE)"
   ]
  },
  {
   "cell_type": "code",
   "execution_count": null,
   "id": "b89cc6fa",
   "metadata": {},
   "outputs": [],
   "source": []
  },
  {
   "cell_type": "code",
   "execution_count": null,
   "id": "e0f90e73",
   "metadata": {},
   "outputs": [],
   "source": [
    "\n",
    "        "
   ]
  },
  {
   "cell_type": "code",
   "execution_count": null,
   "id": "74662e1b",
   "metadata": {},
   "outputs": [],
   "source": []
  },
  {
   "cell_type": "code",
   "execution_count": null,
   "id": "2da0f69f",
   "metadata": {
    "scrolled": true
   },
   "outputs": [],
   "source": []
  },
  {
   "cell_type": "code",
   "execution_count": null,
   "id": "c4cb5e8f",
   "metadata": {},
   "outputs": [],
   "source": []
  }
 ],
 "metadata": {
  "kernelspec": {
   "display_name": "Python 3",
   "language": "python",
   "name": "python3"
  },
  "language_info": {
   "codemirror_mode": {
    "name": "ipython",
    "version": 3
   },
   "file_extension": ".py",
   "mimetype": "text/x-python",
   "name": "python",
   "nbconvert_exporter": "python",
   "pygments_lexer": "ipython3",
   "version": "3.6.13"
  }
 },
 "nbformat": 4,
 "nbformat_minor": 5
}
